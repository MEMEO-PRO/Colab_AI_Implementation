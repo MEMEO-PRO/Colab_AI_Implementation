{
  "nbformat": 4,
  "nbformat_minor": 0,
  "metadata": {
    "colab": {
      "provenance": [],
      "authorship_tag": "ABX9TyMPnBQB6UYmR7uHzFgo1jod",
      "include_colab_link": true
    },
    "kernelspec": {
      "name": "python3",
      "display_name": "Python 3"
    },
    "language_info": {
      "name": "python"
    }
  },
  "cells": [
    {
      "cell_type": "markdown",
      "metadata": {
        "id": "view-in-github",
        "colab_type": "text"
      },
      "source": [
        "<a href=\"https://colab.research.google.com/github/MEMEO-PRO/Colab_AI_Implementation/blob/main/Openai_whisper_on_colab.ipynb\" target=\"_parent\"><img src=\"https://colab.research.google.com/assets/colab-badge.svg\" alt=\"Open In Colab\"/></a>"
      ]
    },
    {
      "cell_type": "code",
      "execution_count": null,
      "metadata": {
        "id": "MH1MCV6ZzO7a"
      },
      "outputs": [],
      "source": [
        "# prompt: code for using openai whisper on colab\n",
        "\n",
        "!pip install git+https://github.com/openai/whisper.git\n",
        "!pip install ffmpeg-python\n",
        "!git clone https://github.com/ggerganov/whisper.cpp.git\n",
        "%cd whisper.cpp\n",
        "!mkdir build\n",
        "%cd build\n",
        "!cmake ..\n",
        "!make\n",
        "%cd ..\n",
        "!mkdir audio\n",
        "%cp /content/drive/MyDrive/example.mp3 /content/audio/example.mp3\n",
        "!./build/whisper /content/audio/example.mp3\n"
      ]
    }
  ]
}